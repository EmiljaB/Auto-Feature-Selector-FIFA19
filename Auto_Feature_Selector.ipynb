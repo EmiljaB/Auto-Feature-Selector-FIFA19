{
  "nbformat": 4,
  "nbformat_minor": 0,
  "metadata": {
    "colab": {
      "provenance": [],
      "authorship_tag": "ABX9TyOY94wghtBFMLRjYyQEPFQh",
      "include_colab_link": true
    },
    "kernelspec": {
      "name": "python3",
      "display_name": "Python 3"
    },
    "language_info": {
      "name": "python"
    }
  },
  "cells": [
    {
      "cell_type": "markdown",
      "metadata": {
        "id": "view-in-github",
        "colab_type": "text"
      },
      "source": [
        "<a href=\"https://colab.research.google.com/github/EmiljaB/Auto-Feature-Selector-FIFA19/blob/Auto-FeatureSelector/Auto_Feature_Selector.ipynb\" target=\"_parent\"><img src=\"https://colab.research.google.com/assets/colab-badge.svg\" alt=\"Open In Colab\"/></a>"
      ]
    },
    {
      "cell_type": "markdown",
      "source": [
        "# Task 7: AutoFeatureSelector Tool\n",
        "## This task is to test your understanding of various Feature Selection methods outlined in the lecture and the ability to apply this knowledge in a real-world dataset to select best features and also to build an automated feature selection tool as your toolkit\n",
        "\n",
        "### Use your knowledge of different feature selector methods to build an Automatic Feature Selection tool\n",
        "- Pearson Correlation\n",
        "- Chi-Square\n",
        "- RFE\n",
        "- Embedded\n",
        "- Tree (Random Forest)\n",
        "- Tree (Light GBM)"
      ],
      "metadata": {
        "id": "-RJckIfbCfU-"
      }
    },
    {
      "cell_type": "markdown",
      "source": [
        "### Dataset: FIFA 19 Player Skills\n",
        "#### Attributes: FIFA 2019 players attributes like Age, Nationality, Overall, Potential, Club, Value, Wage, Preferred Foot, International Reputation, Weak Foot, Skill Moves, Work Rate, Position, Jersey Number, Joined, Loaned From, Contract Valid Until, Height, Weight, LS, ST, RS, LW, LF, CF, RF, RW, LAM, CAM, RAM, LM, LCM, CM, RCM, RM, LWB, LDM, CDM, RDM, RWB, LB, LCB, CB, RCB, RB, Crossing, Finishing, Heading, Accuracy, ShortPassing, Volleys, Dribbling, Curve, FKAccuracy, LongPassing, BallControl, Acceleration, SprintSpeed, Agility, Reactions, Balance, ShotPower, Jumping, Stamina, Strength, LongShots, Aggression, Interceptions, Positioning, Vision, Penalties, Composure, Marking, StandingTackle, SlidingTackle, GKDiving, GKHandling, GKKicking, GKPositioning, GKReflexes, and Release Clause."
      ],
      "metadata": {
        "id": "_3AG3tgUCWiJ"
      }
    },
    {
      "cell_type": "code",
      "execution_count": null,
      "metadata": {
        "id": "vSb9L9mxj3ua"
      },
      "outputs": [],
      "source": [
        "%matplotlib inline\n",
        "import numpy as np\n",
        "import pandas as pd\n",
        "import seaborn as sns\n",
        "import matplotlib.pyplot as plt\n",
        "import scipy.stats as ss\n",
        "from collections import Counter\n",
        "import math\n",
        "from scipy import stats"
      ]
    },
    {
      "cell_type": "code",
      "source": [
        "player_df = pd.read_csv(\"fifa19.csv\")"
      ],
      "metadata": {
        "id": "OtAIX9exj99R"
      },
      "execution_count": null,
      "outputs": []
    },
    {
      "cell_type": "code",
      "source": [
        "numcols = ['Overall', 'Crossing','Finishing',  'ShortPassing',  'Dribbling','LongPassing', 'BallControl', 'Acceleration','SprintSpeed', 'Agility',  'Stamina','Volleys','FKAccuracy','Reactions','Balance','ShotPower','Strength','LongShots','Aggression','Interceptions']\n",
        "catcols = ['Preferred Foot','Position','Body Type','Nationality','Weak Foot']"
      ],
      "metadata": {
        "id": "h8s-f1IVkMd8"
      },
      "execution_count": null,
      "outputs": []
    },
    {
      "cell_type": "code",
      "source": [
        "player_df = player_df[numcols+catcols]"
      ],
      "metadata": {
        "id": "ZXOwjFf1kQru"
      },
      "execution_count": null,
      "outputs": []
    },
    {
      "cell_type": "code",
      "source": [
        "traindf = pd.concat([player_df[numcols], pd.get_dummies(player_df[catcols])],axis=1)\n",
        "features = traindf.columns\n",
        "\n",
        "traindf = traindf.dropna()"
      ],
      "metadata": {
        "id": "pxn538S8kURZ"
      },
      "execution_count": null,
      "outputs": []
    },
    {
      "cell_type": "code",
      "source": [
        "traindf = pd.DataFrame(traindf,columns=features)"
      ],
      "metadata": {
        "id": "9Fqcn-aYkU_X"
      },
      "execution_count": null,
      "outputs": []
    },
    {
      "cell_type": "code",
      "source": [
        "y = traindf['Overall']>=87\n",
        "X = traindf.copy()\n",
        "del X['Overall']"
      ],
      "metadata": {
        "id": "V7fSWiznkXiT"
      },
      "execution_count": null,
      "outputs": []
    },
    {
      "cell_type": "code",
      "source": [
        "X.head()"
      ],
      "metadata": {
        "colab": {
          "base_uri": "https://localhost:8080/",
          "height": 273
        },
        "id": "oBm9pLY8kblz",
        "outputId": "f772f5a3-0bf6-4fa0-f0f6-1e3c6f058f78"
      },
      "execution_count": null,
      "outputs": [
        {
          "output_type": "execute_result",
          "data": {
            "text/plain": [
              "   Crossing  Finishing  ShortPassing  Dribbling  LongPassing  BallControl  \\\n",
              "0      84.0       95.0          90.0       97.0         87.0         96.0   \n",
              "1      84.0       94.0          81.0       88.0         77.0         94.0   \n",
              "2      79.0       87.0          84.0       96.0         78.0         95.0   \n",
              "3      17.0       13.0          50.0       18.0         51.0         42.0   \n",
              "4      93.0       82.0          92.0       86.0         91.0         91.0   \n",
              "\n",
              "   Acceleration  SprintSpeed  Agility  Stamina  ...  Nationality_Uganda  \\\n",
              "0          91.0         86.0     91.0     72.0  ...               False   \n",
              "1          89.0         91.0     87.0     88.0  ...               False   \n",
              "2          94.0         90.0     96.0     81.0  ...               False   \n",
              "3          57.0         58.0     60.0     43.0  ...               False   \n",
              "4          78.0         76.0     79.0     90.0  ...               False   \n",
              "\n",
              "   Nationality_Ukraine  Nationality_United Arab Emirates  \\\n",
              "0                False                             False   \n",
              "1                False                             False   \n",
              "2                False                             False   \n",
              "3                False                             False   \n",
              "4                False                             False   \n",
              "\n",
              "   Nationality_United States  Nationality_Uruguay  Nationality_Uzbekistan  \\\n",
              "0                      False                False                   False   \n",
              "1                      False                False                   False   \n",
              "2                      False                False                   False   \n",
              "3                      False                False                   False   \n",
              "4                      False                False                   False   \n",
              "\n",
              "   Nationality_Venezuela  Nationality_Wales  Nationality_Zambia  \\\n",
              "0                  False              False               False   \n",
              "1                  False              False               False   \n",
              "2                  False              False               False   \n",
              "3                  False              False               False   \n",
              "4                  False              False               False   \n",
              "\n",
              "   Nationality_Zimbabwe  \n",
              "0                 False  \n",
              "1                 False  \n",
              "2                 False  \n",
              "3                 False  \n",
              "4                 False  \n",
              "\n",
              "[5 rows x 223 columns]"
            ],
            "text/html": [
              "\n",
              "  <div id=\"df-e3bc793e-9b6e-4981-9b19-9537bac81570\" class=\"colab-df-container\">\n",
              "    <div>\n",
              "<style scoped>\n",
              "    .dataframe tbody tr th:only-of-type {\n",
              "        vertical-align: middle;\n",
              "    }\n",
              "\n",
              "    .dataframe tbody tr th {\n",
              "        vertical-align: top;\n",
              "    }\n",
              "\n",
              "    .dataframe thead th {\n",
              "        text-align: right;\n",
              "    }\n",
              "</style>\n",
              "<table border=\"1\" class=\"dataframe\">\n",
              "  <thead>\n",
              "    <tr style=\"text-align: right;\">\n",
              "      <th></th>\n",
              "      <th>Crossing</th>\n",
              "      <th>Finishing</th>\n",
              "      <th>ShortPassing</th>\n",
              "      <th>Dribbling</th>\n",
              "      <th>LongPassing</th>\n",
              "      <th>BallControl</th>\n",
              "      <th>Acceleration</th>\n",
              "      <th>SprintSpeed</th>\n",
              "      <th>Agility</th>\n",
              "      <th>Stamina</th>\n",
              "      <th>...</th>\n",
              "      <th>Nationality_Uganda</th>\n",
              "      <th>Nationality_Ukraine</th>\n",
              "      <th>Nationality_United Arab Emirates</th>\n",
              "      <th>Nationality_United States</th>\n",
              "      <th>Nationality_Uruguay</th>\n",
              "      <th>Nationality_Uzbekistan</th>\n",
              "      <th>Nationality_Venezuela</th>\n",
              "      <th>Nationality_Wales</th>\n",
              "      <th>Nationality_Zambia</th>\n",
              "      <th>Nationality_Zimbabwe</th>\n",
              "    </tr>\n",
              "  </thead>\n",
              "  <tbody>\n",
              "    <tr>\n",
              "      <th>0</th>\n",
              "      <td>84.0</td>\n",
              "      <td>95.0</td>\n",
              "      <td>90.0</td>\n",
              "      <td>97.0</td>\n",
              "      <td>87.0</td>\n",
              "      <td>96.0</td>\n",
              "      <td>91.0</td>\n",
              "      <td>86.0</td>\n",
              "      <td>91.0</td>\n",
              "      <td>72.0</td>\n",
              "      <td>...</td>\n",
              "      <td>False</td>\n",
              "      <td>False</td>\n",
              "      <td>False</td>\n",
              "      <td>False</td>\n",
              "      <td>False</td>\n",
              "      <td>False</td>\n",
              "      <td>False</td>\n",
              "      <td>False</td>\n",
              "      <td>False</td>\n",
              "      <td>False</td>\n",
              "    </tr>\n",
              "    <tr>\n",
              "      <th>1</th>\n",
              "      <td>84.0</td>\n",
              "      <td>94.0</td>\n",
              "      <td>81.0</td>\n",
              "      <td>88.0</td>\n",
              "      <td>77.0</td>\n",
              "      <td>94.0</td>\n",
              "      <td>89.0</td>\n",
              "      <td>91.0</td>\n",
              "      <td>87.0</td>\n",
              "      <td>88.0</td>\n",
              "      <td>...</td>\n",
              "      <td>False</td>\n",
              "      <td>False</td>\n",
              "      <td>False</td>\n",
              "      <td>False</td>\n",
              "      <td>False</td>\n",
              "      <td>False</td>\n",
              "      <td>False</td>\n",
              "      <td>False</td>\n",
              "      <td>False</td>\n",
              "      <td>False</td>\n",
              "    </tr>\n",
              "    <tr>\n",
              "      <th>2</th>\n",
              "      <td>79.0</td>\n",
              "      <td>87.0</td>\n",
              "      <td>84.0</td>\n",
              "      <td>96.0</td>\n",
              "      <td>78.0</td>\n",
              "      <td>95.0</td>\n",
              "      <td>94.0</td>\n",
              "      <td>90.0</td>\n",
              "      <td>96.0</td>\n",
              "      <td>81.0</td>\n",
              "      <td>...</td>\n",
              "      <td>False</td>\n",
              "      <td>False</td>\n",
              "      <td>False</td>\n",
              "      <td>False</td>\n",
              "      <td>False</td>\n",
              "      <td>False</td>\n",
              "      <td>False</td>\n",
              "      <td>False</td>\n",
              "      <td>False</td>\n",
              "      <td>False</td>\n",
              "    </tr>\n",
              "    <tr>\n",
              "      <th>3</th>\n",
              "      <td>17.0</td>\n",
              "      <td>13.0</td>\n",
              "      <td>50.0</td>\n",
              "      <td>18.0</td>\n",
              "      <td>51.0</td>\n",
              "      <td>42.0</td>\n",
              "      <td>57.0</td>\n",
              "      <td>58.0</td>\n",
              "      <td>60.0</td>\n",
              "      <td>43.0</td>\n",
              "      <td>...</td>\n",
              "      <td>False</td>\n",
              "      <td>False</td>\n",
              "      <td>False</td>\n",
              "      <td>False</td>\n",
              "      <td>False</td>\n",
              "      <td>False</td>\n",
              "      <td>False</td>\n",
              "      <td>False</td>\n",
              "      <td>False</td>\n",
              "      <td>False</td>\n",
              "    </tr>\n",
              "    <tr>\n",
              "      <th>4</th>\n",
              "      <td>93.0</td>\n",
              "      <td>82.0</td>\n",
              "      <td>92.0</td>\n",
              "      <td>86.0</td>\n",
              "      <td>91.0</td>\n",
              "      <td>91.0</td>\n",
              "      <td>78.0</td>\n",
              "      <td>76.0</td>\n",
              "      <td>79.0</td>\n",
              "      <td>90.0</td>\n",
              "      <td>...</td>\n",
              "      <td>False</td>\n",
              "      <td>False</td>\n",
              "      <td>False</td>\n",
              "      <td>False</td>\n",
              "      <td>False</td>\n",
              "      <td>False</td>\n",
              "      <td>False</td>\n",
              "      <td>False</td>\n",
              "      <td>False</td>\n",
              "      <td>False</td>\n",
              "    </tr>\n",
              "  </tbody>\n",
              "</table>\n",
              "<p>5 rows × 223 columns</p>\n",
              "</div>\n",
              "    <div class=\"colab-df-buttons\">\n",
              "\n",
              "  <div class=\"colab-df-container\">\n",
              "    <button class=\"colab-df-convert\" onclick=\"convertToInteractive('df-e3bc793e-9b6e-4981-9b19-9537bac81570')\"\n",
              "            title=\"Convert this dataframe to an interactive table.\"\n",
              "            style=\"display:none;\">\n",
              "\n",
              "  <svg xmlns=\"http://www.w3.org/2000/svg\" height=\"24px\" viewBox=\"0 -960 960 960\">\n",
              "    <path d=\"M120-120v-720h720v720H120Zm60-500h600v-160H180v160Zm220 220h160v-160H400v160Zm0 220h160v-160H400v160ZM180-400h160v-160H180v160Zm440 0h160v-160H620v160ZM180-180h160v-160H180v160Zm440 0h160v-160H620v160Z\"/>\n",
              "  </svg>\n",
              "    </button>\n",
              "\n",
              "  <style>\n",
              "    .colab-df-container {\n",
              "      display:flex;\n",
              "      gap: 12px;\n",
              "    }\n",
              "\n",
              "    .colab-df-convert {\n",
              "      background-color: #E8F0FE;\n",
              "      border: none;\n",
              "      border-radius: 50%;\n",
              "      cursor: pointer;\n",
              "      display: none;\n",
              "      fill: #1967D2;\n",
              "      height: 32px;\n",
              "      padding: 0 0 0 0;\n",
              "      width: 32px;\n",
              "    }\n",
              "\n",
              "    .colab-df-convert:hover {\n",
              "      background-color: #E2EBFA;\n",
              "      box-shadow: 0px 1px 2px rgba(60, 64, 67, 0.3), 0px 1px 3px 1px rgba(60, 64, 67, 0.15);\n",
              "      fill: #174EA6;\n",
              "    }\n",
              "\n",
              "    .colab-df-buttons div {\n",
              "      margin-bottom: 4px;\n",
              "    }\n",
              "\n",
              "    [theme=dark] .colab-df-convert {\n",
              "      background-color: #3B4455;\n",
              "      fill: #D2E3FC;\n",
              "    }\n",
              "\n",
              "    [theme=dark] .colab-df-convert:hover {\n",
              "      background-color: #434B5C;\n",
              "      box-shadow: 0px 1px 3px 1px rgba(0, 0, 0, 0.15);\n",
              "      filter: drop-shadow(0px 1px 2px rgba(0, 0, 0, 0.3));\n",
              "      fill: #FFFFFF;\n",
              "    }\n",
              "  </style>\n",
              "\n",
              "    <script>\n",
              "      const buttonEl =\n",
              "        document.querySelector('#df-e3bc793e-9b6e-4981-9b19-9537bac81570 button.colab-df-convert');\n",
              "      buttonEl.style.display =\n",
              "        google.colab.kernel.accessAllowed ? 'block' : 'none';\n",
              "\n",
              "      async function convertToInteractive(key) {\n",
              "        const element = document.querySelector('#df-e3bc793e-9b6e-4981-9b19-9537bac81570');\n",
              "        const dataTable =\n",
              "          await google.colab.kernel.invokeFunction('convertToInteractive',\n",
              "                                                    [key], {});\n",
              "        if (!dataTable) return;\n",
              "\n",
              "        const docLinkHtml = 'Like what you see? Visit the ' +\n",
              "          '<a target=\"_blank\" href=https://colab.research.google.com/notebooks/data_table.ipynb>data table notebook</a>'\n",
              "          + ' to learn more about interactive tables.';\n",
              "        element.innerHTML = '';\n",
              "        dataTable['output_type'] = 'display_data';\n",
              "        await google.colab.output.renderOutput(dataTable, element);\n",
              "        const docLink = document.createElement('div');\n",
              "        docLink.innerHTML = docLinkHtml;\n",
              "        element.appendChild(docLink);\n",
              "      }\n",
              "    </script>\n",
              "  </div>\n",
              "\n",
              "\n",
              "<div id=\"df-c3a10e0a-6767-4392-b3f6-b8a271c2068a\">\n",
              "  <button class=\"colab-df-quickchart\" onclick=\"quickchart('df-c3a10e0a-6767-4392-b3f6-b8a271c2068a')\"\n",
              "            title=\"Suggest charts\"\n",
              "            style=\"display:none;\">\n",
              "\n",
              "<svg xmlns=\"http://www.w3.org/2000/svg\" height=\"24px\"viewBox=\"0 0 24 24\"\n",
              "     width=\"24px\">\n",
              "    <g>\n",
              "        <path d=\"M19 3H5c-1.1 0-2 .9-2 2v14c0 1.1.9 2 2 2h14c1.1 0 2-.9 2-2V5c0-1.1-.9-2-2-2zM9 17H7v-7h2v7zm4 0h-2V7h2v10zm4 0h-2v-4h2v4z\"/>\n",
              "    </g>\n",
              "</svg>\n",
              "  </button>\n",
              "\n",
              "<style>\n",
              "  .colab-df-quickchart {\n",
              "      --bg-color: #E8F0FE;\n",
              "      --fill-color: #1967D2;\n",
              "      --hover-bg-color: #E2EBFA;\n",
              "      --hover-fill-color: #174EA6;\n",
              "      --disabled-fill-color: #AAA;\n",
              "      --disabled-bg-color: #DDD;\n",
              "  }\n",
              "\n",
              "  [theme=dark] .colab-df-quickchart {\n",
              "      --bg-color: #3B4455;\n",
              "      --fill-color: #D2E3FC;\n",
              "      --hover-bg-color: #434B5C;\n",
              "      --hover-fill-color: #FFFFFF;\n",
              "      --disabled-bg-color: #3B4455;\n",
              "      --disabled-fill-color: #666;\n",
              "  }\n",
              "\n",
              "  .colab-df-quickchart {\n",
              "    background-color: var(--bg-color);\n",
              "    border: none;\n",
              "    border-radius: 50%;\n",
              "    cursor: pointer;\n",
              "    display: none;\n",
              "    fill: var(--fill-color);\n",
              "    height: 32px;\n",
              "    padding: 0;\n",
              "    width: 32px;\n",
              "  }\n",
              "\n",
              "  .colab-df-quickchart:hover {\n",
              "    background-color: var(--hover-bg-color);\n",
              "    box-shadow: 0 1px 2px rgba(60, 64, 67, 0.3), 0 1px 3px 1px rgba(60, 64, 67, 0.15);\n",
              "    fill: var(--button-hover-fill-color);\n",
              "  }\n",
              "\n",
              "  .colab-df-quickchart-complete:disabled,\n",
              "  .colab-df-quickchart-complete:disabled:hover {\n",
              "    background-color: var(--disabled-bg-color);\n",
              "    fill: var(--disabled-fill-color);\n",
              "    box-shadow: none;\n",
              "  }\n",
              "\n",
              "  .colab-df-spinner {\n",
              "    border: 2px solid var(--fill-color);\n",
              "    border-color: transparent;\n",
              "    border-bottom-color: var(--fill-color);\n",
              "    animation:\n",
              "      spin 1s steps(1) infinite;\n",
              "  }\n",
              "\n",
              "  @keyframes spin {\n",
              "    0% {\n",
              "      border-color: transparent;\n",
              "      border-bottom-color: var(--fill-color);\n",
              "      border-left-color: var(--fill-color);\n",
              "    }\n",
              "    20% {\n",
              "      border-color: transparent;\n",
              "      border-left-color: var(--fill-color);\n",
              "      border-top-color: var(--fill-color);\n",
              "    }\n",
              "    30% {\n",
              "      border-color: transparent;\n",
              "      border-left-color: var(--fill-color);\n",
              "      border-top-color: var(--fill-color);\n",
              "      border-right-color: var(--fill-color);\n",
              "    }\n",
              "    40% {\n",
              "      border-color: transparent;\n",
              "      border-right-color: var(--fill-color);\n",
              "      border-top-color: var(--fill-color);\n",
              "    }\n",
              "    60% {\n",
              "      border-color: transparent;\n",
              "      border-right-color: var(--fill-color);\n",
              "    }\n",
              "    80% {\n",
              "      border-color: transparent;\n",
              "      border-right-color: var(--fill-color);\n",
              "      border-bottom-color: var(--fill-color);\n",
              "    }\n",
              "    90% {\n",
              "      border-color: transparent;\n",
              "      border-bottom-color: var(--fill-color);\n",
              "    }\n",
              "  }\n",
              "</style>\n",
              "\n",
              "  <script>\n",
              "    async function quickchart(key) {\n",
              "      const quickchartButtonEl =\n",
              "        document.querySelector('#' + key + ' button');\n",
              "      quickchartButtonEl.disabled = true;  // To prevent multiple clicks.\n",
              "      quickchartButtonEl.classList.add('colab-df-spinner');\n",
              "      try {\n",
              "        const charts = await google.colab.kernel.invokeFunction(\n",
              "            'suggestCharts', [key], {});\n",
              "      } catch (error) {\n",
              "        console.error('Error during call to suggestCharts:', error);\n",
              "      }\n",
              "      quickchartButtonEl.classList.remove('colab-df-spinner');\n",
              "      quickchartButtonEl.classList.add('colab-df-quickchart-complete');\n",
              "    }\n",
              "    (() => {\n",
              "      let quickchartButtonEl =\n",
              "        document.querySelector('#df-c3a10e0a-6767-4392-b3f6-b8a271c2068a button');\n",
              "      quickchartButtonEl.style.display =\n",
              "        google.colab.kernel.accessAllowed ? 'block' : 'none';\n",
              "    })();\n",
              "  </script>\n",
              "</div>\n",
              "\n",
              "    </div>\n",
              "  </div>\n"
            ],
            "application/vnd.google.colaboratory.intrinsic+json": {
              "type": "dataframe",
              "variable_name": "X"
            }
          },
          "metadata": {},
          "execution_count": 8
        }
      ]
    },
    {
      "cell_type": "code",
      "source": [
        "len(X.columns)\n"
      ],
      "metadata": {
        "colab": {
          "base_uri": "https://localhost:8080/"
        },
        "id": "P_mlrRyjkdZD",
        "outputId": "d8b84c95-dfb5-4194-e1c7-35a00230ccb9"
      },
      "execution_count": null,
      "outputs": [
        {
          "output_type": "execute_result",
          "data": {
            "text/plain": [
              "223"
            ]
          },
          "metadata": {},
          "execution_count": 9
        }
      ]
    },
    {
      "cell_type": "markdown",
      "source": [
        "Set some fixed nmber of features"
      ],
      "metadata": {
        "id": "nbmdIbqsklGt"
      }
    },
    {
      "cell_type": "code",
      "source": [
        "feature_name = list(X.columns)\n",
        "# no of maximum features we need to select\n",
        "num_feats=30"
      ],
      "metadata": {
        "id": "cwPQ89NPkhWH"
      },
      "execution_count": null,
      "outputs": []
    },
    {
      "cell_type": "markdown",
      "source": [
        "# Filter Feature Selection - Pearson Correlation\n",
        "### Pearson Correlation function"
      ],
      "metadata": {
        "id": "WLR1RnR3ktid"
      }
    },
    {
      "cell_type": "code",
      "source": [
        "def cor_selector(X, y, num_feats):\n",
        "    # Calculate the correlation of each feature with the target variable\n",
        "    cor_list = X.corrwith(y).abs()  # Get absolute values of correlations with the target\n",
        "\n",
        "    # Get the features with the highest absolute correlation with the target\n",
        "    selected_features = cor_list.nlargest(num_feats).index\n",
        "\n",
        "    # Create a boolean mask for the selected features\n",
        "    cor_support = X.columns.isin(selected_features)\n",
        "\n",
        "    return cor_support, selected_features  # Return boolean mask and selected features\n"
      ],
      "metadata": {
        "id": "u9ZdUYbDkwyv"
      },
      "execution_count": null,
      "outputs": []
    },
    {
      "cell_type": "code",
      "source": [
        "cor_support, cor_feature = cor_selector(X, y,num_feats)\n",
        "print(str(len(cor_feature)), 'selected features')"
      ],
      "metadata": {
        "colab": {
          "base_uri": "https://localhost:8080/"
        },
        "id": "KdjB3jdfmGlc",
        "outputId": "c9177483-02be-49d6-cc69-0235f4376758"
      },
      "execution_count": null,
      "outputs": [
        {
          "output_type": "stream",
          "name": "stdout",
          "text": [
            "30 selected features\n"
          ]
        }
      ]
    },
    {
      "cell_type": "markdown",
      "source": [
        "### List the selected features from Pearson Correlation"
      ],
      "metadata": {
        "id": "X0-iKME2kwUQ"
      }
    },
    {
      "cell_type": "code",
      "source": [
        "cor_feature"
      ],
      "metadata": {
        "colab": {
          "base_uri": "https://localhost:8080/"
        },
        "id": "E8EiTSCWmNXX",
        "outputId": "79d2dbc5-dc60-4abb-dc31-c75350ca0f83"
      },
      "execution_count": null,
      "outputs": [
        {
          "output_type": "execute_result",
          "data": {
            "text/plain": [
              "Index(['Reactions', 'Body Type_C. Ronaldo', 'Body Type_Messi',\n",
              "       'Body Type_Neymar', 'Body Type_Courtois',\n",
              "       'Body Type_PLAYER_BODY_TYPE_25', 'Position_LF', 'Position_RF',\n",
              "       'ShortPassing', 'Volleys', 'LongPassing', 'FKAccuracy', 'BallControl',\n",
              "       'Finishing', 'LongShots', 'ShotPower', 'Dribbling',\n",
              "       'Nationality_Belgium', 'Crossing', 'Agility', 'Weak Foot', 'Stamina',\n",
              "       'Nationality_Slovenia', 'Nationality_Gabon', 'Strength', 'SprintSpeed',\n",
              "       'Acceleration', 'Nationality_Uruguay', 'Position_LAM',\n",
              "       'Nationality_Costa Rica'],\n",
              "      dtype='object')"
            ]
          },
          "metadata": {},
          "execution_count": 14
        }
      ]
    },
    {
      "cell_type": "markdown",
      "source": [
        "## Filter Feature Selection - Chi-Sqaure"
      ],
      "metadata": {
        "id": "xjXtM_kLmVqB"
      }
    },
    {
      "cell_type": "code",
      "source": [
        "from sklearn.feature_selection import SelectKBest\n",
        "from sklearn.feature_selection import chi2\n",
        "from sklearn.preprocessing import MinMaxScaler"
      ],
      "metadata": {
        "id": "-RsU_Rd6mWuV"
      },
      "execution_count": null,
      "outputs": []
    },
    {
      "cell_type": "markdown",
      "source": [
        "#### Chi-Squared Selector function"
      ],
      "metadata": {
        "id": "voZ4OR5zmlnZ"
      }
    },
    {
      "cell_type": "code",
      "source": [
        "def chi_squared_selector(X, y, num_feats):\n",
        "    # Apply SelectKBest class to extract top features based on the chi-squared test\n",
        "    chi_selector = SelectKBest(score_func=chi2, k=num_feats)\n",
        "    chi_selector.fit(X, y)\n",
        "\n",
        "    # Get the boolean mask of selected features\n",
        "    chi_support = chi_selector.get_support()\n",
        "\n",
        "    # Get the feature names of the selected features\n",
        "    chi_feature = X.columns[chi_support]\n",
        "\n",
        "    return chi_support, chi_feature\n"
      ],
      "metadata": {
        "id": "yAmuDIYnmZ0f"
      },
      "execution_count": null,
      "outputs": []
    },
    {
      "cell_type": "code",
      "source": [
        "chi_support, chi_feature = chi_squared_selector(X, y,num_feats)\n",
        "print(str(len(chi_feature)), 'selected features')"
      ],
      "metadata": {
        "colab": {
          "base_uri": "https://localhost:8080/"
        },
        "id": "RxI9qrZAmq1a",
        "outputId": "22a70740-2972-404b-c599-19bbb2082905"
      },
      "execution_count": null,
      "outputs": [
        {
          "output_type": "stream",
          "name": "stdout",
          "text": [
            "30 selected features\n"
          ]
        }
      ]
    },
    {
      "cell_type": "markdown",
      "source": [
        "### List the selected features from Chi-Square"
      ],
      "metadata": {
        "id": "i_onmh1fm0GI"
      }
    },
    {
      "cell_type": "code",
      "source": [
        "chi_feature"
      ],
      "metadata": {
        "colab": {
          "base_uri": "https://localhost:8080/"
        },
        "id": "p1nFNT3hmz5k",
        "outputId": "fec099d5-2fdf-4d98-a037-40430ed0ef7f"
      },
      "execution_count": null,
      "outputs": [
        {
          "output_type": "execute_result",
          "data": {
            "text/plain": [
              "Index(['Crossing', 'Finishing', 'ShortPassing', 'Dribbling', 'LongPassing',\n",
              "       'BallControl', 'Acceleration', 'SprintSpeed', 'Agility', 'Stamina',\n",
              "       'Volleys', 'FKAccuracy', 'Reactions', 'Balance', 'ShotPower',\n",
              "       'Strength', 'LongShots', 'Aggression', 'Interceptions', 'Position_LF',\n",
              "       'Position_RF', 'Body Type_C. Ronaldo', 'Body Type_Courtois',\n",
              "       'Body Type_Messi', 'Body Type_Neymar', 'Body Type_PLAYER_BODY_TYPE_25',\n",
              "       'Nationality_Belgium', 'Nationality_Gabon', 'Nationality_Slovenia',\n",
              "       'Nationality_Uruguay'],\n",
              "      dtype='object')"
            ]
          },
          "metadata": {},
          "execution_count": 18
        }
      ]
    },
    {
      "cell_type": "markdown",
      "source": [
        "#Wrapper Feature Selection - Recursive Feature Elimination"
      ],
      "metadata": {
        "id": "um60egnZm-Ze"
      }
    },
    {
      "cell_type": "code",
      "source": [
        "from sklearn.feature_selection import RFE\n",
        "from sklearn.linear_model import LogisticRegression\n",
        "from sklearn.preprocessing import MinMaxScaler"
      ],
      "metadata": {
        "id": "mcrvrAr6nEO5"
      },
      "execution_count": null,
      "outputs": []
    },
    {
      "cell_type": "markdown",
      "source": [
        "### RFE Selector function"
      ],
      "metadata": {
        "id": "zax7eYwvnGlx"
      }
    },
    {
      "cell_type": "code",
      "source": [
        "def rfe_selector(X, y, num_feats):\n",
        "    # Create the RFE object using LogisticRegression as the estimator\n",
        "    model = LogisticRegression(max_iter=1000, random_state=42, n_jobs=-1)\n",
        "\n",
        "    # Create the RFE model and select the desired number of features\n",
        "    rfe_selector = RFE(estimator=model, n_features_to_select=num_feats, step=10)\n",
        "\n",
        "    # Fit the model to the data\n",
        "    rfe_selector.fit(X, y)\n",
        "\n",
        "    # Get the boolean mask of the selected features\n",
        "    rfe_support = rfe_selector.get_support()\n",
        "\n",
        "    # Get the feature names of the selected features\n",
        "    rfe_feature = X.columns[rfe_support]\n",
        "\n",
        "\n",
        "    return rfe_support, rfe_feature\n"
      ],
      "metadata": {
        "id": "54bZrel8nJFv"
      },
      "execution_count": null,
      "outputs": []
    },
    {
      "cell_type": "code",
      "source": [
        "rfe_support, rfe_feature = rfe_selector(X, y,num_feats)\n",
        "print(str(len(rfe_feature)), 'selected features')"
      ],
      "metadata": {
        "colab": {
          "base_uri": "https://localhost:8080/"
        },
        "id": "4rPFGD87nReA",
        "outputId": "1591f770-ee44-4c4d-ebf9-4e37ec224d88"
      },
      "execution_count": null,
      "outputs": [
        {
          "output_type": "stream",
          "name": "stdout",
          "text": [
            "30 selected features\n"
          ]
        }
      ]
    },
    {
      "cell_type": "markdown",
      "source": [
        "### List the selected features from RFE"
      ],
      "metadata": {
        "id": "YgoHnOlinSZe"
      }
    },
    {
      "cell_type": "code",
      "source": [
        "rfe_feature"
      ],
      "metadata": {
        "colab": {
          "base_uri": "https://localhost:8080/"
        },
        "id": "ymLq4ogynU5U",
        "outputId": "cd0415cd-d26f-4117-a6bd-865cbae7db24"
      },
      "execution_count": null,
      "outputs": [
        {
          "output_type": "execute_result",
          "data": {
            "text/plain": [
              "Index(['Reactions', 'Position_CAM', 'Position_CM', 'Position_GK',\n",
              "       'Position_LAM', 'Position_LCB', 'Position_LM', 'Position_LW',\n",
              "       'Position_RB', 'Position_RCB', 'Position_RS', 'Position_RW',\n",
              "       'Position_ST', 'Body Type_Courtois', 'Body Type_Lean',\n",
              "       'Nationality_Brazil', 'Nationality_Costa Rica', 'Nationality_Croatia',\n",
              "       'Nationality_England', 'Nationality_France', 'Nationality_Gabon',\n",
              "       'Nationality_Germany', 'Nationality_Greece', 'Nationality_Italy',\n",
              "       'Nationality_Netherlands', 'Nationality_Portugal',\n",
              "       'Nationality_Senegal', 'Nationality_Slovenia', 'Nationality_Uruguay',\n",
              "       'Nationality_Wales'],\n",
              "      dtype='object')"
            ]
          },
          "metadata": {},
          "execution_count": 22
        }
      ]
    },
    {
      "cell_type": "markdown",
      "source": [
        "#Embedded Selection - Lasso: SelectFromModel"
      ],
      "metadata": {
        "id": "0wh73lXHnh-F"
      }
    },
    {
      "cell_type": "code",
      "source": [
        "from sklearn.feature_selection import SelectFromModel\n",
        "from sklearn.linear_model import LogisticRegression\n",
        "from sklearn.preprocessing import MinMaxScaler"
      ],
      "metadata": {
        "id": "XU9UoLnynlsb"
      },
      "execution_count": null,
      "outputs": []
    },
    {
      "cell_type": "code",
      "source": [
        "from sklearn.linear_model import LogisticRegression\n",
        "import numpy as np\n",
        "\n",
        "def embedded_log_reg_selector(X, y, num_feats):\n",
        "    # Create the Logistic Regression model\n",
        "    model = LogisticRegression(max_iter=1000, random_state=42)\n",
        "\n",
        "    # Fit the model to the data\n",
        "    model.fit(X, y)\n",
        "\n",
        "    # Get the absolute values of the coefficients\n",
        "    importance = np.abs(model.coef_[0])\n",
        "\n",
        "    # Get the indices of the top features\n",
        "    indices = np.argsort(importance)[-num_feats:]\n",
        "\n",
        "    # Create a boolean mask for the selected features\n",
        "    embedded_lr_support = np.zeros(importance.shape, dtype=bool)\n",
        "    embedded_lr_support[indices] = True\n",
        "\n",
        "    # Get the feature names of the selected features\n",
        "    embedded_lr_feature = X.columns[embedded_lr_support]\n",
        "\n",
        "    return embedded_lr_support, embedded_lr_feature\n"
      ],
      "metadata": {
        "id": "sVlq7HJ4r0y8"
      },
      "execution_count": null,
      "outputs": []
    },
    {
      "cell_type": "code",
      "source": [
        "embedded_lr_support, embedded_lr_feature = embedded_log_reg_selector(X, y, num_feats)\n",
        "print(str(len(embedded_lr_feature)), 'selected features')"
      ],
      "metadata": {
        "colab": {
          "base_uri": "https://localhost:8080/"
        },
        "id": "iXwMvoErr3X2",
        "outputId": "76536e86-7d5c-45d5-f616-5f2251dc641c"
      },
      "execution_count": null,
      "outputs": [
        {
          "output_type": "stream",
          "name": "stdout",
          "text": [
            "30 selected features\n"
          ]
        },
        {
          "output_type": "stream",
          "name": "stderr",
          "text": [
            "/usr/local/lib/python3.10/dist-packages/sklearn/linear_model/_logistic.py:460: ConvergenceWarning: lbfgs failed to converge (status=1):\n",
            "STOP: TOTAL NO. of ITERATIONS REACHED LIMIT.\n",
            "\n",
            "Increase the number of iterations (max_iter) or scale the data as shown in:\n",
            "    https://scikit-learn.org/stable/modules/preprocessing.html\n",
            "Please also refer to the documentation for alternative solver options:\n",
            "    https://scikit-learn.org/stable/modules/linear_model.html#logistic-regression\n",
            "  n_iter_i = _check_optimize_result(\n"
          ]
        }
      ]
    },
    {
      "cell_type": "code",
      "source": [
        "embedded_lr_feature"
      ],
      "metadata": {
        "colab": {
          "base_uri": "https://localhost:8080/"
        },
        "id": "jtjut1uosEOc",
        "outputId": "fd7f463b-80f2-4e6c-8e2b-8cc7239cb1ce"
      },
      "execution_count": null,
      "outputs": [
        {
          "output_type": "execute_result",
          "data": {
            "text/plain": [
              "Index(['Preferred Foot_Left', 'Preferred Foot_Right', 'Position_CAM',\n",
              "       'Position_CF', 'Position_CM', 'Position_LAM', 'Position_LM',\n",
              "       'Position_LW', 'Position_RB', 'Position_RM', 'Position_RS',\n",
              "       'Position_RW', 'Body Type_Lean', 'Body Type_Normal', 'Body Type_Stocky',\n",
              "       'Nationality_Costa Rica', 'Nationality_Croatia', 'Nationality_Gabon',\n",
              "       'Nationality_Germany', 'Nationality_Italy', 'Nationality_Mexico',\n",
              "       'Nationality_Netherlands', 'Nationality_Poland', 'Nationality_Portugal',\n",
              "       'Nationality_Senegal', 'Nationality_Serbia', 'Nationality_Slovenia',\n",
              "       'Nationality_Ukraine', 'Nationality_Uruguay', 'Nationality_Wales'],\n",
              "      dtype='object')"
            ]
          },
          "metadata": {},
          "execution_count": 26
        }
      ]
    },
    {
      "cell_type": "markdown",
      "source": [
        "#Tree based(Random Forest): SelectFromModel"
      ],
      "metadata": {
        "id": "p4EHGk_CsoK8"
      }
    },
    {
      "cell_type": "code",
      "source": [
        "from sklearn.feature_selection import SelectFromModel\n",
        "from sklearn.ensemble import RandomForestClassifier"
      ],
      "metadata": {
        "id": "4PkezZawsp61"
      },
      "execution_count": null,
      "outputs": []
    },
    {
      "cell_type": "code",
      "source": [
        "def embedded_rf_selector(X, y, num_feats):\n",
        "    # Create the Random Forest model\n",
        "    model = RandomForestClassifier(n_estimators=100, random_state=42)\n",
        "\n",
        "    # Fit the model to the data\n",
        "    model.fit(X, y)\n",
        "\n",
        "    # Get feature importances\n",
        "    importances = model.feature_importances_\n",
        "\n",
        "    # Get the indices of the top features\n",
        "    indices = np.argsort(importances)[-num_feats:]\n",
        "\n",
        "    # Create a boolean mask for the selected features\n",
        "    embedded_rf_support = np.zeros(importances.shape, dtype=bool)\n",
        "    embedded_rf_support[indices] = True\n",
        "\n",
        "    # Get the feature names of the selected features\n",
        "    embedded_rf_feature = X.columns[embedded_rf_support]\n",
        "\n",
        "    return embedded_rf_support, embedded_rf_feature\n"
      ],
      "metadata": {
        "id": "udGfrSd7sskf"
      },
      "execution_count": null,
      "outputs": []
    },
    {
      "cell_type": "code",
      "source": [
        "embedded_rf_support, embedded_rf_feature = embedded_rf_selector(X, y, num_feats)\n",
        "print(str(len(embedded_rf_feature)), 'selected features')\n"
      ],
      "metadata": {
        "colab": {
          "base_uri": "https://localhost:8080/"
        },
        "id": "UaXiCoLas2uQ",
        "outputId": "ca0bc48b-3c1b-4d43-ed37-213556fd0020"
      },
      "execution_count": null,
      "outputs": [
        {
          "output_type": "stream",
          "name": "stdout",
          "text": [
            "30 selected features\n"
          ]
        }
      ]
    },
    {
      "cell_type": "code",
      "source": [
        "embedded_rf_feature"
      ],
      "metadata": {
        "colab": {
          "base_uri": "https://localhost:8080/"
        },
        "id": "03X2txnmtYSB",
        "outputId": "7d0f1945-d951-4489-cffd-6d28b4074472"
      },
      "execution_count": null,
      "outputs": [
        {
          "output_type": "execute_result",
          "data": {
            "text/plain": [
              "Index(['Crossing', 'Finishing', 'ShortPassing', 'Dribbling', 'LongPassing',\n",
              "       'BallControl', 'Acceleration', 'SprintSpeed', 'Agility', 'Stamina',\n",
              "       'Volleys', 'FKAccuracy', 'Reactions', 'Balance', 'ShotPower',\n",
              "       'Strength', 'LongShots', 'Aggression', 'Interceptions', 'Weak Foot',\n",
              "       'Preferred Foot_Right', 'Position_RCB', 'Body Type_Courtois',\n",
              "       'Body Type_Lean', 'Body Type_Normal', 'Nationality_Belgium',\n",
              "       'Nationality_Brazil', 'Nationality_Italy', 'Nationality_Slovenia',\n",
              "       'Nationality_Spain'],\n",
              "      dtype='object')"
            ]
          },
          "metadata": {},
          "execution_count": 30
        }
      ]
    },
    {
      "cell_type": "markdown",
      "source": [
        "#Tree based(Light GBM): SelectFromModel"
      ],
      "metadata": {
        "id": "IOekc4cQtd-3"
      }
    },
    {
      "cell_type": "code",
      "source": [
        "from sklearn.feature_selection import SelectFromModel\n",
        "from lightgbm import LGBMClassifier"
      ],
      "metadata": {
        "colab": {
          "base_uri": "https://localhost:8080/"
        },
        "id": "oUt5bzHOtb98",
        "outputId": "ca0d6f15-f1d5-4fda-e463-8ba940795e87"
      },
      "execution_count": null,
      "outputs": [
        {
          "output_type": "stream",
          "name": "stderr",
          "text": [
            "/usr/local/lib/python3.10/dist-packages/dask/dataframe/__init__.py:42: FutureWarning: \n",
            "Dask dataframe query planning is disabled because dask-expr is not installed.\n",
            "\n",
            "You can install it with `pip install dask[dataframe]` or `conda install dask`.\n",
            "This will raise in a future version.\n",
            "\n",
            "  warnings.warn(msg, FutureWarning)\n"
          ]
        }
      ]
    },
    {
      "cell_type": "code",
      "source": [
        "def embedded_lgbm_selector(X, y, num_feats):\n",
        "    # Create the LGBM model\n",
        "    model = LGBMClassifier(n_estimators=100, random_state=42)\n",
        "\n",
        "    # Fit the model to the data\n",
        "    model.fit(X, y)\n",
        "\n",
        "    # Get feature importances\n",
        "    importances = model.feature_importances_\n",
        "\n",
        "    # Get the indices of the top features\n",
        "    indices = np.argsort(importances)[-num_feats:]\n",
        "\n",
        "    # Create a boolean mask for the selected features\n",
        "    embedded_lgbm_support = np.zeros(importances.shape, dtype=bool)\n",
        "    embedded_lgbm_support[indices] = True\n",
        "\n",
        "    # Get the feature names of the selected features\n",
        "    embedded_lgbm_feature = X.columns[embedded_lgbm_support]\n",
        "\n",
        "    return embedded_lgbm_support, embedded_lgbm_feature\n"
      ],
      "metadata": {
        "id": "cLfMX66-tird"
      },
      "execution_count": null,
      "outputs": []
    },
    {
      "cell_type": "code",
      "source": [
        "embedded_lgbm_support, embedded_lgbm_feature = embedded_lgbm_selector(X, y, num_feats)\n",
        "print(str(len(embedded_lgbm_feature)), 'selected features')"
      ],
      "metadata": {
        "colab": {
          "base_uri": "https://localhost:8080/"
        },
        "id": "_vjrw8IXt4fX",
        "outputId": "8feb41f5-1382-4345-a2eb-71e3cfb1964c"
      },
      "execution_count": null,
      "outputs": [
        {
          "output_type": "stream",
          "name": "stdout",
          "text": [
            "[LightGBM] [Warning] Found whitespace in feature_names, replace with underlines\n",
            "[LightGBM] [Info] Number of positive: 55, number of negative: 18104\n",
            "[LightGBM] [Info] Auto-choosing row-wise multi-threading, the overhead of testing was 0.004517 seconds.\n",
            "You can set `force_row_wise=true` to remove the overhead.\n",
            "And if memory is not enough, you can set `force_col_wise=true`.\n",
            "[LightGBM] [Info] Total Bins 1812\n",
            "[LightGBM] [Info] Number of data points in the train set: 18159, number of used features: 124\n",
            "[LightGBM] [Info] [binary:BoostFromScore]: pavg=0.003029 -> initscore=-5.796555\n",
            "[LightGBM] [Info] Start training from score -5.796555\n",
            "[LightGBM] [Warning] No further splits with positive gain, best gain: -inf\n",
            "[LightGBM] [Warning] No further splits with positive gain, best gain: -inf\n",
            "[LightGBM] [Warning] No further splits with positive gain, best gain: -inf\n",
            "[LightGBM] [Warning] No further splits with positive gain, best gain: -inf\n",
            "[LightGBM] [Warning] No further splits with positive gain, best gain: -inf\n",
            "[LightGBM] [Warning] No further splits with positive gain, best gain: -inf\n",
            "[LightGBM] [Warning] No further splits with positive gain, best gain: -inf\n",
            "[LightGBM] [Warning] No further splits with positive gain, best gain: -inf\n",
            "[LightGBM] [Warning] No further splits with positive gain, best gain: -inf\n",
            "30 selected features\n"
          ]
        }
      ]
    },
    {
      "cell_type": "code",
      "source": [
        "embedded_lgbm_feature"
      ],
      "metadata": {
        "colab": {
          "base_uri": "https://localhost:8080/"
        },
        "id": "GUsgXdBEuKei",
        "outputId": "117d4a24-d9d8-4937-97ad-6aaade791a2e"
      },
      "execution_count": null,
      "outputs": [
        {
          "output_type": "execute_result",
          "data": {
            "text/plain": [
              "Index(['Crossing', 'Finishing', 'ShortPassing', 'Dribbling', 'LongPassing',\n",
              "       'BallControl', 'Acceleration', 'SprintSpeed', 'Agility', 'Stamina',\n",
              "       'Volleys', 'FKAccuracy', 'Reactions', 'Balance', 'ShotPower',\n",
              "       'Strength', 'LongShots', 'Aggression', 'Interceptions', 'Weak Foot',\n",
              "       'Preferred Foot_Left', 'Position_LCB', 'Body Type_Lean',\n",
              "       'Nationality_Belgium', 'Nationality_Finland', 'Nationality_France',\n",
              "       'Nationality_Italy', 'Nationality_Senegal', 'Nationality_Slovakia',\n",
              "       'Nationality_Slovenia'],\n",
              "      dtype='object')"
            ]
          },
          "metadata": {},
          "execution_count": 34
        }
      ]
    },
    {
      "cell_type": "markdown",
      "source": [
        "#Putting all of it together: AutoFeatureSelector Tool"
      ],
      "metadata": {
        "id": "3U0IcWdZuQpC"
      }
    },
    {
      "cell_type": "code",
      "source": [
        "print(len(feature_name))\n",
        "print(len(cor_support))\n",
        "print(len(chi_support))\n",
        "print(len(rfe_support))\n",
        "print(len(embedded_lr_support))\n",
        "print(len(embedded_rf_support))\n",
        "print(len(embedded_lgbm_support))\n"
      ],
      "metadata": {
        "colab": {
          "base_uri": "https://localhost:8080/"
        },
        "id": "92E-VoZyzk6L",
        "outputId": "501a6113-d266-454d-e498-63cdba3889b9"
      },
      "execution_count": null,
      "outputs": [
        {
          "output_type": "stream",
          "name": "stdout",
          "text": [
            "223\n",
            "223\n",
            "223\n",
            "223\n",
            "223\n",
            "223\n",
            "223\n"
          ]
        }
      ]
    },
    {
      "cell_type": "code",
      "source": [
        "#I had to make some changes since it displayed some errors in parsing\n",
        "pd.set_option('display.max_rows', None)\n",
        "\n",
        "# put all selection together\n",
        "feature_selection_df = pd.DataFrame({\n",
        "    'Feature': feature_name,\n",
        "    'Pearson': cor_support,\n",
        "    'Chi-2': chi_support,\n",
        "    'RFE': rfe_support,\n",
        "    'Logistics': embedded_lr_support,\n",
        "    'Random Forest': embedded_rf_support,\n",
        "    'LightGBM': embedded_lgbm_support\n",
        "})\n",
        "\n",
        "# Count the selected times for each feature\n",
        "# Only sum the columns that are binary support indicators\n",
        "feature_selection_df['Total'] = feature_selection_df[['Pearson', 'Chi-2', 'RFE', 'Logistics', 'Random Forest', 'LightGBM']].sum(axis=1)\n",
        "\n",
        "# Display the top features based on total selections\n",
        "feature_selection_df = feature_selection_df.sort_values(['Total', 'Feature'], ascending=False)\n",
        "feature_selection_df.index = range(1, len(feature_selection_df) + 1)\n",
        "top_features = feature_selection_df.head(num_feats)\n",
        "\n",
        "print(top_features)  # Display the top selected features\n"
      ],
      "metadata": {
        "colab": {
          "base_uri": "https://localhost:8080/"
        },
        "id": "9FVCAbbl1NMX",
        "outputId": "ebc105f8-eb8d-48ee-fe7a-4e797d5b7b0f"
      },
      "execution_count": null,
      "outputs": [
        {
          "output_type": "stream",
          "name": "stdout",
          "text": [
            "                   Feature  Pearson  Chi-2    RFE  Logistics  Random Forest  \\\n",
            "1     Nationality_Slovenia     True   True   True       True           True   \n",
            "2                Reactions     True   True   True      False           True   \n",
            "3                  Volleys     True   True  False      False           True   \n",
            "4                 Strength     True   True  False      False           True   \n",
            "5                  Stamina     True   True  False      False           True   \n",
            "6              SprintSpeed     True   True  False      False           True   \n",
            "7                ShotPower     True   True  False      False           True   \n",
            "8             ShortPassing     True   True  False      False           True   \n",
            "9      Nationality_Uruguay     True   True   True       True          False   \n",
            "10       Nationality_Italy    False  False   True       True           True   \n",
            "11       Nationality_Gabon     True   True   True       True          False   \n",
            "12     Nationality_Belgium     True   True  False      False           True   \n",
            "13               LongShots     True   True  False      False           True   \n",
            "14             LongPassing     True   True  False      False           True   \n",
            "15               Finishing     True   True  False      False           True   \n",
            "16              FKAccuracy     True   True  False      False           True   \n",
            "17               Dribbling     True   True  False      False           True   \n",
            "18                Crossing     True   True  False      False           True   \n",
            "19          Body Type_Lean    False  False   True       True           True   \n",
            "20      Body Type_Courtois     True   True   True      False           True   \n",
            "21             BallControl     True   True  False      False           True   \n",
            "22                 Agility     True   True  False      False           True   \n",
            "23            Acceleration     True   True  False      False           True   \n",
            "24               Weak Foot     True  False  False      False           True   \n",
            "25            Position_LAM     True  False   True       True          False   \n",
            "26     Nationality_Senegal    False  False   True       True          False   \n",
            "27  Nationality_Costa Rica     True  False   True       True          False   \n",
            "28           Interceptions    False   True  False      False           True   \n",
            "29                 Balance    False   True  False      False           True   \n",
            "30              Aggression    False   True  False      False           True   \n",
            "\n",
            "    LightGBM  Total  \n",
            "1       True      6  \n",
            "2       True      5  \n",
            "3       True      4  \n",
            "4       True      4  \n",
            "5       True      4  \n",
            "6       True      4  \n",
            "7       True      4  \n",
            "8       True      4  \n",
            "9      False      4  \n",
            "10      True      4  \n",
            "11     False      4  \n",
            "12      True      4  \n",
            "13      True      4  \n",
            "14      True      4  \n",
            "15      True      4  \n",
            "16      True      4  \n",
            "17      True      4  \n",
            "18      True      4  \n",
            "19      True      4  \n",
            "20     False      4  \n",
            "21      True      4  \n",
            "22      True      4  \n",
            "23      True      4  \n",
            "24      True      3  \n",
            "25     False      3  \n",
            "26      True      3  \n",
            "27     False      3  \n",
            "28      True      3  \n",
            "29      True      3  \n",
            "30      True      3  \n"
          ]
        }
      ]
    },
    {
      "cell_type": "markdown",
      "source": [
        "#Can you build a Python script that takes dataset and a list of different feature selection methods that you want to try and output the best (maximum votes) features from all methods?"
      ],
      "metadata": {
        "id": "yJkarq-81krP"
      }
    },
    {
      "cell_type": "code",
      "source": [
        "def preprocess_dataset(dataset_path):\n",
        "    # Load the dataset\n",
        "    df = pd.read_csv(dataset_path)\n",
        "\n",
        "    # Handle missing values\n",
        "    df = df.fillna(0)  # Replace NaN with 0 or use another strategy\n",
        "\n",
        "    # Convert categorical variables to numeric using one-hot encoding\n",
        "    df = pd.get_dummies(df, drop_first=True)\n",
        "\n",
        "    # Split features and target variable\n",
        "    X = df.drop(columns=['Overall'])\n",
        "    y = df['Overall']\n",
        "\n",
        "    # Define the number of features to select\n",
        "    num_feats = min(10, X.shape[1])  # Example: selecting up to 10 features\n",
        "\n",
        "    return X, y, num_feats\n"
      ],
      "metadata": {
        "id": "fCkBTObm1mvQ"
      },
      "execution_count": null,
      "outputs": []
    },
    {
      "cell_type": "code",
      "source": [
        "def autoFeatureSelector(dataset_path, methods=[]):\n",
        "    # Preprocessing the dataset\n",
        "    X, y, num_feats = preprocess_dataset(dataset_path)\n",
        "\n",
        "    # Initialize a DataFrame to collect feature selection results\n",
        "    feature_selection_df = pd.DataFrame({'Feature': X.columns})\n",
        "\n",
        "    # Collect features from each method\n",
        "    if 'pearson' in methods:\n",
        "        cor_support, cor_feature = cor_selector(X, y, num_feats)\n",
        "        feature_selection_df['Pearson'] = cor_support.astype(int)  # Ensure boolean to int conversion\n",
        "\n",
        "    if 'chi-square' in methods:\n",
        "        chi_support, chi_feature = chi_squared_selector(X, y, num_feats)\n",
        "        feature_selection_df['Chi-square'] = chi_support.astype(int)\n",
        "\n",
        "    if 'rfe' in methods:\n",
        "        rfe_support, rfe_feature = rfe_selector(X, y, num_feats)\n",
        "        feature_selection_df['RFE'] = rfe_support.astype(int)\n",
        "\n",
        "    if 'log-reg' in methods:\n",
        "        embedded_lr_support, embedded_lr_feature = embedded_log_reg_selector(X, y, num_feats)\n",
        "        feature_selection_df['Logistics'] = embedded_lr_support.astype(int)\n",
        "\n",
        "    if 'rf' in methods:\n",
        "        embedded_rf_support, embedded_rf_feature = embedded_rf_selector(X, y, num_feats)\n",
        "        feature_selection_df['Random Forest'] = embedded_rf_support.astype(int)\n",
        "\n",
        "    if 'lgbm' in methods:\n",
        "        embedded_lgbm_support, embedded_lgbm_feature = embedded_lgbm_selector(X, y, num_feats)\n",
        "        feature_selection_df['LightGBM'] = embedded_lgbm_support.astype(int)\n",
        "\n",
        "    # Count the selected times for each feature\n",
        "    feature_selection_df['Total'] = feature_selection_df.iloc[:, 1:].sum(axis=1)\n",
        "\n",
        "    # Select the features with the maximum votes\n",
        "    best_features = feature_selection_df[feature_selection_df['Total'] > 0].sort_values('Total', ascending=False)\n",
        "\n",
        "    return best_features\n"
      ],
      "metadata": {
        "id": "h0DPsEPC1t8J"
      },
      "execution_count": null,
      "outputs": []
    },
    {
      "cell_type": "code",
      "source": [
        "best_features = autoFeatureSelector(dataset_path=\"fifa19.csv\", methods=['pearson', 'chi-square', 'rfe', 'log-reg', 'rf', 'lgbm'])\n",
        "best_features"
      ],
      "metadata": {
        "id": "2A1BFFHw2GPC"
      },
      "execution_count": null,
      "outputs": []
    }
  ]
}